{
 "cells": [
  {
   "cell_type": "markdown",
   "metadata": {
    "collapsed": true,
    "pycharm": {
     "name": "#%% md\n"
    }
   },
   "source": [
    "# Family relationships\n",
    "## Browsing a family tree\n",
    "------\n",
    "### Defining the problem\n",
    "\n",
    "\n",
    "\n",
    "We are trying to find the best way to define the relationship\n",
    "between two person of the same family. That means that we need\n",
    "to find the most meaningful connections between family members in\n",
    "order to give to the user the most meaningful relationship between\n",
    "him and each one of his relatives.\n",
    "\n",
    "----\n",
    "\n",
    "### Examples\n",
    "\n",
    "Let's try to make the previous explanation clearer using examples.\n",
    "Let us consider the family tree from the document named \"My-Family-16-May-2022.pdf\".\n",
    "Let's say I am Pierre Hastings. How am I related to Nadia Gold ?\n",
    "\n",
    "Well, we can say that :\n",
    "- She is the daughter of my grandmother's sister\n",
    "- She is the cousin of my mother\n",
    "\n",
    "As you can see, the second realtionship is much clearer than the first one.\n",
    "There are two reasons :\n",
    "- there are fewer persons involved between me and Nadia\n",
    "- I am much closer to my mother than my grandmother. I am even further from my grandmother's sister.\n",
    "\n",
    "In that sense, if we try to apply the graphs theory :\n",
    "- we need to minimize the number of nodes involved in the choosen path\n",
    "- we need to weight links between nodes depending on the relationships between the starting point and the other node\n",
    "\n",
    "-----"
   ]
  },
  {
   "cell_type": "markdown",
   "metadata": {
    "pycharm": {
     "name": "#%% md\n"
    }
   },
   "source": [
    "### Formalisation\n",
    "\n",
    "We have $N$ family members symbolized as $N$ nodes $(F_k)_{k \\in [\\![0, N]\\!]}$. These nodes have relationships.\n",
    "In our situation, here is the list of relationships between familt members :\n",
    "- parents\n",
    "- son, daughter\n",
    "- siblings\n",
    "- grandparents\n",
    "- aunt, uncle\n",
    "- cousin.\n",
    "\n",
    "This means that for each node $F_k$, there are at minimum 2 relationships, and not $N-1$ relationships.\n",
    "The two rules that we discussed in the \"Examples\" section should be translated like this :\n",
    "\n",
    "1. minimize the number of nodes involved in the choosen path.\n",
    "\n",
    "Let the distance between two points be $d(F_i, F_j)$. If two nodes aren't linked, we will take the following convention : $d(F_i, F_j) = + \\infty $.\n",
    "\n",
    "As we explained before, going through an intermediate node should cost more than going directly from one node to another (if it is possible).\n",
    "Then we have :\n",
    "$\n",
    " \\forall i, j, k \\in  [\\![ 0, N ]\\!], \\ d(F_i, F_k) \\leq d(F_i, F_j) + d(F_j, F_k)\n",
    "$"
   ]
  }
 ],
 "metadata": {
  "kernelspec": {
   "display_name": "Python 3 (ipykernel)",
   "language": "python",
   "name": "python3"
  },
  "language_info": {
   "codemirror_mode": {
    "name": "ipython",
    "version": 3
   },
   "file_extension": ".py",
   "mimetype": "text/x-python",
   "name": "python",
   "nbconvert_exporter": "python",
   "pygments_lexer": "ipython3",
   "version": "3.9.6"
  }
 },
 "nbformat": 4,
 "nbformat_minor": 1
}
