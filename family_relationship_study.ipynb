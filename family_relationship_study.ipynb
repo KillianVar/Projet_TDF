{
 "cells": [
  {
   "cell_type": "markdown",
   "metadata": {
    "collapsed": true,
    "pycharm": {
     "name": "#%% md\n"
    }
   },
   "source": [
    "# Family relationships\n",
    "## Browsing a family tree\n",
    "------\n",
    "### Defining the problem\n",
    "\n",
    "\n",
    "\n",
    "We are trying to find the best way to define the relationship\n",
    "between two person of the same family. That means that we need\n",
    "to find the most meaningful connections between family members in\n",
    "order to give to the user the most meaningful relationship between\n",
    "him and each one of his relatives.\n",
    "\n",
    "----\n",
    "\n",
    "### Examples\n",
    "\n",
    "Let's try to make the previous explanation clearer using examples.\n",
    "Let us consider the family tree from the document named \"My-Family-16-May-2022.pdf\".\n",
    "Let's say I am Pierre Hastings. How am I related to Nadia Gold ?\n",
    "\n",
    "Well, we can say that :\n",
    "- She is the daughter of my grandmother's sister\n",
    "- She is the cousin of my mother\n",
    "- She is the daughter of my mother's aunt\n",
    "\n",
    "As you can see, the second realtionship is much clearer than the first one.\n",
    "There are two reasons :\n",
    "- there are fewer persons involved between me and Nadia\n",
    "- I am much closer to my mother than my grandmother. I am even further from my grandmother's sister.\n",
    "\n",
    "In that sense, if we try to apply the graphs theory :\n",
    "- we need to minimize the number of nodes involved in the choosen path\n",
    "- we need to weight links between nodes depending on the relationships between the starting point and the other node\n",
    "\n",
    "-----"
   ]
  },
  {
   "cell_type": "markdown",
   "metadata": {
    "pycharm": {
     "name": "#%% md\n"
    }
   },
   "source": [
    "### Formalisation"
   ]
  },
  {
   "cell_type": "markdown",
   "metadata": {
    "pycharm": {
     "name": "#%% md\n"
    }
   },
   "source": [
    "We have $N$ family members symbolized as $N$ nodes $(F_k)_{k \\in [\\![0, N]\\!]}$. These nodes have relationships.\n",
    "In our situation, here is the list of relationships between familt members :\n",
    "- parents\n",
    "- spouse\n",
    "- son, daughter\n",
    "- siblings\n",
    "- grandparents\n",
    "- aunt, uncle\n",
    "- cousin.\n",
    "\n",
    "This means that for each node $F_k$, there are at minimum 2 relationships, and not $N-1$ relationships.\n",
    "The two rules that we discussed in the \"Examples\" section should be translated like this :\n",
    "\n",
    "1. minimize the number of nodes involved in the choosen path.\n",
    "\n",
    "Let the distance between two points be $d(F_i, F_j)$. If two nodes aren't linked, we will take the following convention : $d(F_i, F_j) = + \\infty $.\n",
    "\n",
    "As we explained before, going through an intermediate node should cost more than going directly from one node to another (if it is possible).\n",
    "Then :\n",
    "\n",
    "$\n",
    " \\forall i, j, k \\in  [\\![ 0, N ]\\!], \\ d(F_i, F_k) \\leq d(F_i, F_j) + d(F_j, F_k)\n",
    "$\n",
    "\n",
    "Which means that the problem is following the triangular inequality.\n",
    "\n",
    "2. Priority of links between family members.\n",
    "\n",
    "As we said, it seems that some family links are much more meaningful that others. That means that we have to consider\n",
    "that some links must be privileged to express the relationship between the user and its relatives.\n",
    "The order of priority could be determined by examinating the user's afinity with its relatives, but\n",
    "for the first approach we will consider that the order of priority is absolute and defined as followed :\n",
    "1. $\\alpha$ : parents AND / OR children\n",
    "2. $\\beta$ : siblings\n",
    "3. $\\gamma$ : spouses\n",
    "4. $\\delta$ : grandparents\n",
    "5. $\\epsilon$ : uncles, aunts AND / OR nephews AND / OR cousins"
   ]
  },
  {
   "cell_type": "markdown",
   "metadata": {
    "pycharm": {
     "name": "#%% md\n"
    }
   },
   "source": [
    "### Attempt n°1 : Constants\n",
    "\n",
    "This ranking from the most meaningful to the least one favors the blood realtionship and the mariage.\n",
    "In our mathematical model this means that the length of the link between two nodes (family members)\n",
    "depends on the type of relationship. Let's simplify again our problem and consider that for the whole graph,\n",
    "the length between two nodes depends only on the relationship between the two family members.\n",
    "Then, we have :\n",
    "\n",
    "$\n",
    "\\forall i, j \\in  [\\![ 0, N ]\\!], \\ d(F_i, F_j) =\n",
    "\\left \\{\n",
    "\\begin{array}{}\n",
    "\\alpha \\quad {\\rm if \\ the \\ relationship \\ between}  \\ F_i {\\rm \\ and}  \\ F_j {\\rm  \\ is  \\ \\alpha  \\ type} \\\\\n",
    "\\beta \\quad {\\rm if \\ the \\ relationship \\ between}  \\ F_i {\\rm \\ and}  \\ F_j {\\rm  \\ is  \\ \\beta  \\ type} \\\\\n",
    "\\gamma \\quad {\\rm \\ if \\ the \\ relationship \\ between}  \\ F_i {\\rm \\ and}  \\ F_j {\\rm  \\ is  \\ \\gamma  \\ type} \\\\\n",
    "\\delta \\quad {\\rm \\ if \\ the \\ relationship \\ between}  \\ F_i {\\rm \\ and}  \\ F_j {\\rm  \\ is  \\ \\delta  \\ type} \\\\\n",
    "\\varepsilon \\quad {\\rm \\ if \\ the \\ relationship \\ between}  \\ F_i {\\rm \\ and}  \\ F_j {\\rm  \\ is  \\ \\varepsilon  \\ type} \\\\\n",
    "\\end{array}\n",
    "\\right.\n",
    "$\n",
    "\n",
    "We then have the following ranking of the previous parameters :\n",
    "$\n",
    "\\alpha < \\beta < \\gamma < \\delta < \\varepsilon\n",
    "$\n",
    "\n",
    "The first rule give us now :\n",
    "- Parents' parents are  grandparents : $\\ 2 \\alpha > \\delta$\n",
    "- One's father's brother is one's uncle : $\\ \\alpha + \\beta > \\epsilon$\n",
    "- The child of one's father's brother is one's cousin : $2 \\alpha + \\beta > \\epsilon$\n",
    "- The child of one's uncle is one's cousin : $\\alpha + \\epsilon > \\epsilon$\n",
    "- the sibling of one's sibling is also its silbing : $2 \\beta > \\beta$\n",
    "\n",
    "The last point clearly raises a problem : $2 \\beta > \\beta$ is impossible.\n",
    "This means that we can't consider that all siblings are linked the same way."
   ]
  },
  {
   "cell_type": "markdown",
   "metadata": {},
   "source": [
    "### Attempt n°2 : linear link's length\n",
    "\n",
    "To solve this matter, we will consider that the value $\\beta$ follows this equation :\n",
    "\n",
    "$\n",
    "\\beta_{F_i, F_j} = \\beta_0 + |age(F_i) - age(F_j)|\n",
    "$\n",
    "\n",
    "Now, by appling the first constraint :\n",
    "\n",
    "$\n",
    "\\forall i, j, k \\in [\\![ 0, N ]\\!], \\: F_i, F_j, F_k {\\rm \\ are \\ \\beta \\ related \\ :} \\quad \\beta_{F_i, F_k} < \\beta_{F_i, F_j} + \\beta_{F_j, F_k}\n",
    "$\n",
    "\n",
    "$\n",
    "{\\rm i.e.} \\quad \\beta_0 + |age(F_i) - age(F_k)| < 2 * \\beta_0 + |age(F_i) - age(F_j)| + |age(F_j) - age(F_k)|\n",
    "$\n",
    "\n",
    "$\n",
    "{\\rm i.e.} \\quad |age(F_i) - age(F_k)| < \\beta_0 + |age(F_i) - age(F_j)| + |age(F_j) - age(F_k)|\n",
    "$\n",
    "\n",
    "Given that :\n",
    "\n",
    "$\n",
    "|age(F_i) - age(F_k)| \\leq |age(F_i) - age(F_j)| + |age(F_j) - age(F_k)|\n",
    "$\n",
    "\n",
    "by the triangular inequality, we know that the previous assertion is alway true, unless : $\\beta > 0$\n",
    "\n",
    "So this attempt could be working."
   ]
  },
  {
   "cell_type": "markdown",
   "source": [
    "------"
   ],
   "metadata": {
    "collapsed": false,
    "pycharm": {
     "name": "#%% md\n"
    }
   }
  },
  {
   "cell_type": "markdown",
   "source": [
    "## Python Graph Modelling of the tree\n",
    "\n",
    "Let us consider a family of $N$ members. Numbering the family members would be unconsiderably hard, and useless.\n",
    "In fact, thanks to Python we can use explicit names for keys in dictionnaries, so there is no use to try to number\n",
    "the family_tree.\n",
    "\n",
    "We have multiple options to create such a graph :\n",
    " - use a dictionnary of dictionnaries, including the distances between a person and its relatives, and some personal\n",
    "information : dates of birth, death, age, ...\n",
    " - create a Class \"family_member\" that :\n",
    "    - has for atribute the list of all family members\n",
    "    - instances have an atribute containing distances between their relatives (a dict using the secured keys)\n",
    "    - automatically update the list of all family members when a new realtive is added to the family tree\n",
    "    - as a consequence automatically update the relationships with other family members \n",
    "    - that can store family members' information.\n",
    " \n",
    "The great thing about the last propositon is that we can manage to create an auto updating Class,\n",
    " and so auto updating graph.\n"
   ],
   "metadata": {
    "collapsed": false,
    "pycharm": {
     "name": "#%% md\n"
    }
   }
  }
 ],
 "metadata": {
  "kernelspec": {
   "display_name": "Python 3 (ipykernel)",
   "language": "python",
   "name": "python3"
  },
  "language_info": {
   "codemirror_mode": {
    "name": "ipython",
    "version": 3
   },
   "file_extension": ".py",
   "mimetype": "text/x-python",
   "name": "python",
   "nbconvert_exporter": "python",
   "pygments_lexer": "ipython3",
   "version": "3.9.6"
  }
 },
 "nbformat": 4,
 "nbformat_minor": 1
}