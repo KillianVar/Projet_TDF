{
 "cells": [
  {
   "cell_type": "markdown",
   "metadata": {
    "collapsed": true,
    "pycharm": {
     "name": "#%% md\n"
    }
   },
   "source": [
    "# Family relationships\n",
    "## Browsing a family tree\n",
    "------\n",
    "### Defining the problem\n",
    "\n",
    "\n",
    "\n",
    "We are trying to find the best way to define the relationship\n",
    "between two person of the same family. That means that we need\n",
    "to find the most meaningful connections between family members in\n",
    "order to give to the user the most meaningful relationship between\n",
    "him and each one of his relatives.\n",
    "\n",
    "### Examples\n",
    "\n",
    "Let's try to make the previous explanation clearer using examples.\n",
    "Let us consider the family tree from the document named \"My-Family-16-May-2022.pdf\".\n",
    "Let's say I am Pierre Hastings. How am I related to Nadia Gold ?\n",
    "\n",
    "Well, we can say that :\n",
    "- She is the daughter of my grandmother's sister\n",
    "- She is the cousin of my mother\n",
    "\n",
    "As you can see, the second realtionship is much clearer than the first one.\n",
    "There are two reasons :\n",
    "- there are fewer persons involved between me and Nadia\n",
    "- I am much closer to my mother than my grandmother. I am even further from my grandmother's sister.\n",
    "\n",
    "In that sense, if we try to apply the graphs theory :\n",
    "- we need to minimize the number of vertex involved in the choosen path\n",
    "- we need to weight links between vertex depending on the relationships between the starting point and the other vertex\n",
    "\n",
    "### Formalisation\n"
   ]
  }
 ],
 "metadata": {
  "kernelspec": {
   "display_name": "Python 3",
   "language": "python",
   "name": "python3"
  },
  "language_info": {
   "codemirror_mode": {
    "name": "ipython",
    "version": 2
   },
   "file_extension": ".py",
   "mimetype": "text/x-python",
   "name": "python",
   "nbconvert_exporter": "python",
   "pygments_lexer": "ipython2",
   "version": "2.7.6"
  }
 },
 "nbformat": 4,
 "nbformat_minor": 0
}