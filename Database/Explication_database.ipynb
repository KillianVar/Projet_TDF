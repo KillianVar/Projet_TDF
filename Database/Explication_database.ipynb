{
 "cells": [
  {
   "cell_type": "markdown",
   "metadata": {},
   "source": [
    "On utilise ici deux bases de données correspondant aux fichiers Gedcom de l'arbre généalogique de deux familles : l'une imaginaire, construite sur 5 générations, l'autre étant la famille royale britannique. \n",
    "Dans database_calculus, on crée un dictionnaire contenant les poids des relations entre un individus et ses proches.\n",
    "Dans database_conversion, on crée un dictionnaire contenant toutes les informations de chaque individu (nom, surnom, sexe, proches)"
   ]
  }
 ],
 "metadata": {
  "language_info": {
   "name": "python"
  },
  "orig_nbformat": 4
 },
 "nbformat": 4,
 "nbformat_minor": 2
}
